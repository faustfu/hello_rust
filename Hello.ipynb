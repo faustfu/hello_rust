{
 "cells": [
  {
   "cell_type": "code",
   "execution_count": 2,
   "metadata": {
    "scrolled": true
   },
   "outputs": [
    {
     "name": "stdout",
     "output_type": "stream",
     "text": [
      "Hello World!\n"
     ]
    }
   ],
   "source": [
    "println!(\"Hello World!\");"
   ]
  },
  {
   "cell_type": "code",
   "execution_count": 3,
   "metadata": {},
   "outputs": [],
   "source": [
    "fn ar1() {\n",
    "  let mut x:[i32;5] = [1,2,3,4,2]; \n",
    "\n",
    "  x[1] = 3;\n",
    "\n",
    "  println!(\"x = {:?}, len = {}\", x, x.len());\n",
    "\n",
    "  let b = [1u32; 10];\n",
    "\n",
    "  for i in b.iter() {\n",
    "    println!(\"i = {}\", i);\n",
    "  }\n",
    "\n",
    "  for i in &b {\n",
    "    println!(\"i = {}\", i);\n",
    "  }\n",
    "\n",
    "  //two dimension array\n",
    "  let c:[[i32;3];2] = [\n",
    "    [1,2,3],\n",
    "    [4,5,6]\n",
    "  ];\n",
    "\n",
    "  println!(\"c = {:?}\", c);\n",
    "}"
   ]
  },
  {
   "cell_type": "code",
   "execution_count": 4,
   "metadata": {},
   "outputs": [
    {
     "name": "stdout",
     "output_type": "stream",
     "text": [
      "x = [1, 3, 3, 4, 2], len = 5\n",
      "i = 1\n",
      "i = 1\n",
      "i = 1\n",
      "i = 1\n",
      "i = 1\n",
      "i = 1\n",
      "i = 1\n",
      "i = 1\n",
      "i = 1\n",
      "i = 1\n",
      "i = 1\n",
      "i = 1\n",
      "i = 1\n",
      "i = 1\n",
      "i = 1\n",
      "i = 1\n",
      "i = 1\n",
      "i = 1\n",
      "i = 1\n",
      "i = 1\n",
      "c = [[1, 2, 3], [4, 5, 6]]\n"
     ]
    }
   ],
   "source": [
    "ar1();"
   ]
  }
 ],
 "metadata": {
  "kernelspec": {
   "display_name": "Rust",
   "language": "rust",
   "name": "rust"
  },
  "language_info": {
   "codemirror_mode": "rust",
   "file_extension": ".rs",
   "mimetype": "text/rust",
   "name": "Rust",
   "pygment_lexer": "rust",
   "version": ""
  }
 },
 "nbformat": 4,
 "nbformat_minor": 4
}
