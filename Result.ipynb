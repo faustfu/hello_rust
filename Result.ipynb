{
 "cells": [
  {
   "cell_type": "code",
   "execution_count": 4,
   "metadata": {},
   "outputs": [
    {
     "name": "stdout",
     "output_type": "stream",
     "text": [
      "error parsing header: \"invalid version\"\n"
     ]
    },
    {
     "data": {
      "text/plain": [
       "()"
      ]
     },
     "execution_count": 4,
     "metadata": {},
     "output_type": "execute_result"
    }
   ],
   "source": [
    "#[derive(Debug)]\n",
    "enum Version { Version1, Version2 }\n",
    "\n",
    "fn parse_version(header: &[u8]) -> Result<Version, &'static str> {\n",
    "    match header.get(0) {\n",
    "        None => Err(\"invalid header length\"),\n",
    "        Some(&1) => Ok(Version::Version1),\n",
    "        Some(&2) => Ok(Version::Version2),\n",
    "        Some(_) => Err(\"invalid version\"),\n",
    "    }\n",
    "}\n",
    "\n",
    "let version = parse_version(&[3, 2, 1, 4]);\n",
    "match version {\n",
    "    Ok(v) => println!(\"working with version: {:?}\", v),\n",
    "    Err(e) => println!(\"error parsing header: {:?}\", e),\n",
    "}"
   ]
  }
 ],
 "metadata": {
  "kernelspec": {
   "display_name": "Rust",
   "language": "rust",
   "name": "rust"
  },
  "language_info": {
   "codemirror_mode": "rust",
   "file_extension": ".rs",
   "mimetype": "text/rust",
   "name": "Rust",
   "pygment_lexer": "rust",
   "version": ""
  }
 },
 "nbformat": 4,
 "nbformat_minor": 4
}
